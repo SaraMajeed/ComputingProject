{
 "cells": [
  {
   "cell_type": "code",
   "execution_count": null,
   "metadata": {},
   "outputs": [],
   "source": [
    "%run loadAndExtractPieces.ipynb"
   ]
  },
  {
   "cell_type": "code",
   "execution_count": null,
   "metadata": {},
   "outputs": [],
   "source": [
    "# import the necessary packages\n",
    "import tensorflow as tf\n",
    "from tensorflow.keras.models import Model\n",
    "from tensorflow.keras import layers\n",
    "from tensorflow.keras import Input\n",
    "\n",
    "from itertools import permutations"
   ]
  },
  {
   "cell_type": "code",
   "execution_count": null,
   "metadata": {},
   "outputs": [],
   "source": [
    "# defines a list of permutations for integers 1-9 and returns a random permutation from the list\n",
    "def rand_perm():\n",
    "    p = list(permutations(range(1,10)))\n",
    "    randP = np.random.randint(0, len(p))\n",
    "    return (p[randP])\n",
    "\n",
    "randPerm = rand_perm()"
   ]
  },
  {
   "cell_type": "code",
   "execution_count": null,
   "metadata": {},
   "outputs": [],
   "source": [
    "#shape of one individual puzzle piece\n",
    "inputShape = (66,66,3)"
   ]
  },
  {
   "cell_type": "code",
   "execution_count": null,
   "metadata": {},
   "outputs": [],
   "source": [
    "def siamese_model(input_shape):\n",
    "    \n",
    "    inputs = Input(inputShape)\n",
    "\n",
    "    p = layers.Conv2D(96, (11,11), activation=\"relu\", strides=2,input_shape = inputShape)(inputs)\n",
    "    p = layers.MaxPooling2D((3,3), strides = 2)(p)\n",
    "    p = layers.Conv2D(256, (5,5), strides = 1, padding = \"same\", activation = \"relu\")(p)\n",
    "    p = layers.MaxPooling2D((3,3), strides = 2)(p)\n",
    "    p = layers.Conv2D(384, (3,3), strides = 1, padding = \"same\", activation = \"relu\")(p)\n",
    "    p = layers.Conv2D(384, (3,3), strides = 1, padding = \"same\", activation = \"relu\")(p)\n",
    "    p = layers.Conv2D(256, (3,3), strides = 1, padding = \"same\", activation = \"relu\")(p)\n",
    "    p = layers.MaxPooling2D((3,3), strides = 2)(p)\n",
    "    p = layers.Dropout(0.5)(p)\n",
    "    p = layers.Dense(4096, activation = \"relu\")(p)\n",
    "    \n",
    "    model = Model(inputs, p)\n",
    "    \n",
    "    return model"
   ]
  },
  {
   "cell_type": "code",
   "execution_count": null,
   "metadata": {},
   "outputs": [],
   "source": [
    "# all individual image pieces\n",
    "p1 = Input(inputShape)\n",
    "p2 = Input(inputShape)\n",
    "p3 = Input(inputShape)\n",
    "p4 = Input(inputShape)\n",
    "p5 = Input(inputShape)\n",
    "p6 = Input(inputShape)\n",
    "p7 = Input(inputShape)\n",
    "p8 = Input(inputShape)\n",
    "p9 = Input(inputShape)\n",
    "\n",
    "base = siamese_model(inputShape)\n",
    "\n",
    "f1 = base(p1)\n",
    "f2 = base(p2)\n",
    "f3 = base(p3)\n",
    "f4 = base(p4)\n",
    "f5 = base(p5)\n",
    "f6 = base(p6)\n",
    "f7 = base(p7)\n",
    "f8 = base(p8)\n",
    "f9 = base(p9)\n",
    "\n",
    "\n",
    "merged = layers.Concatenate()([f1, f2, f3, f4, f5, f6, f7, f8, f9])\n",
    "\n",
    "merged = layers.Dense(4096, activation = 'relu')(merged)\n",
    "merged = layers.Dense(81, activation = 'relu')(merged)\n",
    "outputs = layers.Dense(9, activation = 'softmax')(merged)\n",
    "\n",
    "model = Model(inputs=[p1, p2, p3, p4, p5, p6, p7, p8, p9], outputs=outputs)\n",
    "\n",
    "#prints a summary of the model (layers, output shape, number of parameters)\n",
    "base.summary()\n",
    "model.summary()\n",
    "    "
   ]
  },
  {
   "cell_type": "code",
   "execution_count": null,
   "metadata": {},
   "outputs": [],
   "source": [
    "#used to visualise neural networks\n",
    "from tensorflow.keras.utils import plot_model\n",
    "plot_model(base, \"siamese_model_base.png\", show_shapes=True)"
   ]
  },
  {
   "cell_type": "code",
   "execution_count": null,
   "metadata": {},
   "outputs": [],
   "source": [
    "model.compile(loss=\"binary_crossentropy\", optimizer=\"adam\", metrics=[\"accuracy\"])"
   ]
  },
  {
   "cell_type": "code",
   "execution_count": null,
   "metadata": {},
   "outputs": [],
   "source": [
    "#the code below produces the following error:\n",
    "#ValueError: Data cardinality is ambiguous:\n",
    "#  x sizes: 66, 66, 66, 66, 66, 66, 66, 66, 66\n",
    "#  y sizes: 384\n",
    "#Make sure all arrays contain the same number of samples.\n",
    "\n",
    "history = model.fit(\n",
    "    (train_data[10][0],\n",
    "    train_data[10][1],\n",
    "    train_data[10][2],\n",
    "    train_data[10][3],\n",
    "    train_data[10][4],\n",
    "    train_data[10][5],\n",
    "    train_data[10][6],\n",
    "    train_data[10][7],\n",
    "    train_data[10][8]),\n",
    "    train_labels,\n",
    "    epochs=20,\n",
    "    batch_size = 256)"
   ]
  }
 ],
 "metadata": {
  "kernelspec": {
   "display_name": "Python 3",
   "language": "python",
   "name": "python3"
  },
  "language_info": {
   "codemirror_mode": {
    "name": "ipython",
    "version": 3
   },
   "file_extension": ".py",
   "mimetype": "text/x-python",
   "name": "python",
   "nbconvert_exporter": "python",
   "pygments_lexer": "ipython3",
   "version": "3.8.2"
  }
 },
 "nbformat": 4,
 "nbformat_minor": 4
}
