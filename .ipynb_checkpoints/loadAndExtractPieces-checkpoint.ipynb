{
 "cells": [
  {
   "cell_type": "code",
   "execution_count": 1,
   "metadata": {},
   "outputs": [],
   "source": [
    "import os, shutil\n",
    "import tensorflow as tf\n",
    "from tensorflow.keras.preprocessing import image\n",
    "import numpy as np\n",
    "\n",
    "%matplotlib inline\n",
    "import matplotlib.pyplot as plt\n",
    "import pandas as pd"
   ]
  },
  {
   "cell_type": "code",
   "execution_count": 2,
   "metadata": {},
   "outputs": [],
   "source": [
    "# MAIN DIRECTORIES\n",
    "\n",
    "base_dir = '/Users/saramajeed/Documents/UNI/Year 3/Project/data/puzzle_3x3/'\n",
    "\n",
    "train_dir = os.path.join(base_dir, 'train')\n",
    "valid_dir = os.path.join(base_dir, 'valid')\n",
    "test_dir = os.path.join(base_dir, 'test')"
   ]
  },
  {
   "cell_type": "code",
   "execution_count": 3,
   "metadata": {},
   "outputs": [],
   "source": [
    "#https://github.com/shivaverma/Jigsaw-Solver/blob/master/utills.py\n",
    "\n",
    "def extract_piece(a):\n",
    "\n",
    "    \"\"\"\n",
    "       extracts each piece of the puzzle and returns\n",
    "    \"\"\"\n",
    "\n",
    "    #size//cuts\n",
    "    cut_len = 200 // 3 \n",
    "\n",
    "    a = np.array([a[:, 0:cut_len, :], a[:, cut_len:cut_len * 2, :], a[:, cut_len * 2:cut_len * 3, :]])\n",
    "    a = np.concatenate(\n",
    "        (a[:, 0:cut_len, :, :], a[:, cut_len:cut_len * 2, :, :], a[:, cut_len * 2:cut_len * 3, :, :]))\n",
    "\n",
    "    return a"
   ]
  },
  {
   "cell_type": "code",
   "execution_count": 4,
   "metadata": {},
   "outputs": [],
   "source": [
    "#https://www.tensorflow.org/tutorials/load_data/images\n",
    "\n",
    "#from tensorflow.keras.preprocessing.image import ImageDataGenerator\n",
    "\n",
    "def load_data(path, l_path):\n",
    "    \n",
    "    #rescales all images by 1/255\n",
    "    #datagen = ImageDataGenerator(rescale=1./255)\n",
    "    \n",
    "    #image_data = datagen.flow_from_directory(\n",
    "     #   path, #target directory\n",
    "      #  target_size=(200, 200), #resizes all images to 150 x 150\n",
    "       # batch_size=50)\n",
    "    \n",
    "    image_data = tf.keras.preprocessing.image_dataset_from_directory( \n",
    "        directory = path,\n",
    "        batch_size = 50, \n",
    "        shuffle = False,\n",
    "        image_size = (200,200)\n",
    "    )\n",
    "    \n",
    "    tiles = []\n",
    "    label_data = []\n",
    "    \n",
    "    \n",
    "    \n",
    "    for images, labels in image_data:\n",
    "        for i in range(len(images)):\n",
    "            im = images[i]\n",
    "            tiles.append(extract_piece(im))\n",
    "            \n",
    "            labels = pd.read_csv(base_dir + '{}.csv'.format(l_path))\n",
    "            p = base_dir + path + '/'\n",
    "            \n",
    "            l = labels.iloc[i]['label']\n",
    "            l = [int(i) for i in l.split()]\n",
    "            label_data.append(l)\n",
    "            \n",
    "            \n",
    "    \n",
    "    \n",
    "    #for i in range (len(labels)):\n",
    "        \n",
    "    \n",
    "            \n",
    "    return (np.array(tiles), np.expand_dims((np.array(label_data)), axis = -1))"
   ]
  },
  {
   "cell_type": "code",
   "execution_count": 5,
   "metadata": {},
   "outputs": [
    {
     "name": "stdout",
     "output_type": "stream",
     "text": [
      "Found 384 files belonging to 1 classes.\n"
     ]
    }
   ],
   "source": [
    "#train_data = load_data(train_dir)\n",
    "#test_data = load_data(test_dir)\n",
    "valid_data, label_data = load_data(valid_dir, 'valid')"
   ]
  },
  {
   "cell_type": "code",
   "execution_count": 6,
   "metadata": {},
   "outputs": [],
   "source": [
    "#https://matplotlib.org/stable/gallery/axes_grid1/simple_axesgrid.html\n",
    "\n",
    "#import matplotlib.pyplot as plt\n",
    "#from mpl_toolkits.axes_grid1 import ImageGrid\n",
    "#import numpy as np\n",
    "\n",
    "#im1 = np.array(train_data[25][0])\n",
    "#im2 = np.array(train_data[25][1])\n",
    "#im3 = np.array(train_data[25][2])\n",
    "#im4 = np.array(train_data[25][3])\n",
    "#im5 = np.array(train_data[25][4])\n",
    "#im6 = np.array(train_data[25][5])\n",
    "#im7 = np.array(train_data[25][6])\n",
    "#im8 = np.array(train_data[25][7])\n",
    "#im9 = np.array(train_data[25][8])\n",
    "\n",
    "#fig = plt.figure(figsize=(7, 7))\n",
    "#grid = ImageGrid(fig,111,  # similar to subplot(111)\n",
    " #                nrows_ncols=(3, 3),  # creates 2x2 grid of axes\n",
    "  #               axes_pad=0.2,  # pad between axes in inch.\n",
    "   #              )\n",
    "\n",
    "#for ax, im in zip(grid, [im1,im2,im3,im4,im5,im6,im7,im8,im9]):\n",
    "    # Iterating over the grid returns the Axes.\n",
    "#    ax.imshow(im.astype('uint16'))\n",
    "\n",
    "#plt.show()"
   ]
  },
  {
   "cell_type": "code",
   "execution_count": 7,
   "metadata": {},
   "outputs": [],
   "source": [
    "label_data = label_data.reshape(1,-1)\n",
    "#valid_data = valid_data.reshape(1,-1)"
   ]
  },
  {
   "cell_type": "code",
   "execution_count": 8,
   "metadata": {},
   "outputs": [
    {
     "data": {
      "text/plain": [
       "(9, 66, 66, 3)"
      ]
     },
     "execution_count": 8,
     "metadata": {},
     "output_type": "execute_result"
    }
   ],
   "source": [
    "valid_data[9].shape"
   ]
  },
  {
   "cell_type": "code",
   "execution_count": null,
   "metadata": {},
   "outputs": [],
   "source": []
  }
 ],
 "metadata": {
  "kernelspec": {
   "display_name": "Python 3",
   "language": "python",
   "name": "python3"
  },
  "language_info": {
   "codemirror_mode": {
    "name": "ipython",
    "version": 3
   },
   "file_extension": ".py",
   "mimetype": "text/x-python",
   "name": "python",
   "nbconvert_exporter": "python",
   "pygments_lexer": "ipython3",
   "version": "3.8.2"
  }
 },
 "nbformat": 4,
 "nbformat_minor": 4
}
