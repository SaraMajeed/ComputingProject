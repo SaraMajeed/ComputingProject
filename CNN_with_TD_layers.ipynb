{
 "cells": [
  {
   "cell_type": "code",
   "execution_count": null,
   "id": "bd6f6b64",
   "metadata": {},
   "outputs": [],
   "source": [
    "%run loadAndExtractPieces.ipynb"
   ]
  },
  {
   "cell_type": "code",
   "execution_count": null,
   "id": "9cb948e2",
   "metadata": {},
   "outputs": [],
   "source": [
    "#neural network model - parameters and layers have been adjusted throughout experiments\n",
    "def model():\n",
    "    model = models.Sequential()\n",
    "    \n",
    "    model.add(td(Conv2D(64, (3,3), kernel_regularizer=l2(0.01), padding = 'same', activation = 'relu', input_shape=(9,66,66,3))))\n",
    "    model.add(td(BatchNormalization()))\n",
    "    \n",
    "    model.add(td(MaxPooling2D()))\n",
    "    #model.add(td(Dropout(0.1)))\n",
    "    \n",
    "    model.add(td(Conv2D(256, (3,3), kernel_regularizer=l2(0.01), padding = 'same',activation = 'relu')))\n",
    "    model.add(td(BatchNormalization()))\n",
    "    \n",
    "    model.add(td(MaxPooling2D()))\n",
    "    #model.add(td(Dropout(0.1)))\n",
    "    \n",
    "    model.add(td(Conv2D(512, (3,3), kernel_regularizer=l2(0.01), padding = 'same', activation = 'relu')))\n",
    "    model.add(td(BatchNormalization()))\n",
    "    #model.add(td(Dropout(0.1)))\n",
    "    \n",
    "    model.add(Flatten())\n",
    "    \n",
    "    model.add(Dense(500, activation = 'relu'))\n",
    "    model.add(BatchNormalization())\n",
    "    model.add(Dense(200, activation = 'relu'))\n",
    "    #model.add(BatchNormalization())\n",
    "    #model.add(Dropout(0.2))\n",
    "    model.add(Dense(81, activation = 'relu'))\n",
    "    #model.add(BatchNormalization())\n",
    "    model.add(Reshape((9,9)))\n",
    "    model.add(Activation('softmax'))\n",
    "    \n",
    "    \n",
    "    return model\n",
    "    "
   ]
  },
  {
   "cell_type": "code",
   "execution_count": null,
   "id": "4e9108cf",
   "metadata": {},
   "outputs": [],
   "source": [
    "model = model()\n",
    "#optimizer = keras.optimizers.Adam(lr=0.3)\n",
    "model.compile(loss='sparse_categorical_crossentropy', optimizer='adam', metrics=[\"accuracy\"])"
   ]
  },
  {
   "cell_type": "code",
   "execution_count": null,
   "id": "7b025480",
   "metadata": {},
   "outputs": [],
   "source": [
    "results = model.evaluate(test_data, test_labels)"
   ]
  },
  {
   "cell_type": "code",
   "execution_count": null,
   "id": "0be38ff1",
   "metadata": {},
   "outputs": [],
   "source": [
    "results"
   ]
  },
  {
   "cell_type": "code",
   "execution_count": null,
   "id": "b79a50c6",
   "metadata": {},
   "outputs": [],
   "source": [
    "history = model.fit(\n",
    "    train_data, \n",
    "    train_labels, \n",
    "    batch_size=256,\n",
    "    epochs=20, \n",
    "    validation_data = (valid_data, valid_labels)\n",
    "    )"
   ]
  },
  {
   "cell_type": "code",
   "execution_count": null,
   "id": "83f164c5",
   "metadata": {},
   "outputs": [],
   "source": [
    "#used to visualise neural networks\n",
    "from tensorflow.keras.utils import plot_model\n",
    "plot_model(model, \"model4.9.png\", show_shapes=True)"
   ]
  },
  {
   "cell_type": "code",
   "execution_count": null,
   "id": "a63532da",
   "metadata": {},
   "outputs": [],
   "source": [
    "#max(history.history['val_accuracy'])\n",
    "#min(history.history['loss'])"
   ]
  },
  {
   "cell_type": "code",
   "execution_count": null,
   "id": "beab3e88",
   "metadata": {},
   "outputs": [],
   "source": [
    "#prints a summary of the model (layers, output shape, number of parameters)\n",
    "model.summary()"
   ]
  },
  {
   "cell_type": "code",
   "execution_count": null,
   "id": "8b837dda",
   "metadata": {},
   "outputs": [],
   "source": [
    "#function to plot the loss for trainign and validation values during training\n",
    "def plot_loss():\n",
    "\n",
    "    history_dict = history.history\n",
    "    loss = history_dict['loss']\n",
    "    val_loss = history_dict['val_loss']\n",
    "\n",
    "    epochs = range(1, len(loss) + 1)\n",
    "\n",
    "    blue_dots = 'bo'\n",
    "    solid_blue_line = 'b'\n",
    "\n",
    "    plt.plot(epochs, loss, blue_dots, label = 'Training loss')\n",
    "    plt.plot(epochs, val_loss, solid_blue_line, label = 'Validation loss')\n",
    "    plt.title('Training and validation loss')\n",
    "    plt.xlabel('Epochs')\n",
    "    plt.ylabel('Loss')\n",
    "    plt.legend()\n",
    "    plt.savefig('model_4.91_loss.png', dpi=300, bbox_inches='tight')\n",
    "    plt.show()\n",
    "    \n",
    "plot_loss()"
   ]
  },
  {
   "cell_type": "code",
   "execution_count": null,
   "id": "e125816c",
   "metadata": {},
   "outputs": [],
   "source": [
    "#function to plot the accuracy values for training and validation during training\n",
    "def plot_acc():\n",
    "    \n",
    "    plt.clf()\n",
    "    history_dict = history.history\n",
    "    acc = history_dict['accuracy']\n",
    "    val_acc = history_dict['val_accuracy']\n",
    "    \n",
    "    epochs = range(1, len(acc) + 1)\n",
    "    \n",
    "    plt.plot(epochs, acc, 'bo', label = 'Training acc')\n",
    "    plt.plot(epochs, val_acc, 'b', label = 'Validation acc')\n",
    "    plt.title('Training and validation acc')\n",
    "    plt.xlabel('Epochs')\n",
    "    plt.ylabel('Accuracy')\n",
    "    plt.legend()\n",
    "    plt.savefig('model_4.91_acc.png', dpi=300, bbox_inches='tight')\n",
    "    plt.show()\n",
    "\n",
    "plot_acc()"
   ]
  }
 ],
 "metadata": {
  "kernelspec": {
   "display_name": "Python 3",
   "language": "python",
   "name": "python3"
  },
  "language_info": {
   "codemirror_mode": {
    "name": "ipython",
    "version": 3
   },
   "file_extension": ".py",
   "mimetype": "text/x-python",
   "name": "python",
   "nbconvert_exporter": "python",
   "pygments_lexer": "ipython3",
   "version": "3.8.2"
  }
 },
 "nbformat": 4,
 "nbformat_minor": 5
}
