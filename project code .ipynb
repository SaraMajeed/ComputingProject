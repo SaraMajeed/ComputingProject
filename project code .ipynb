{
 "cells": [
  {
   "cell_type": "code",
   "execution_count": 1,
   "metadata": {},
   "outputs": [],
   "source": [
    "import os"
   ]
  },
  {
   "cell_type": "code",
   "execution_count": 33,
   "metadata": {},
   "outputs": [],
   "source": [
    "puzzle2x2_train_images = '/Users/saramajeed/Documents/UNI/Year 3/Project/Data/puzzle_2x2/train'\n",
    "puzzle2x2_test_images = '/Users/saramajeed/Documents/UNI/Year 3/Project/Data/puzzle_2x2/test'\n",
    "puzzle2x2_valid_images = '/Users/saramajeed/Documents/UNI/Year 3/Project/Data/puzzle_2x2/valid'"
   ]
  },
  {
   "cell_type": "code",
   "execution_count": 34,
   "metadata": {},
   "outputs": [
    {
     "name": "stdout",
     "output_type": "stream",
     "text": [
      "total 2x2 jigsaw puzzle train images: 93136\n",
      "total 2x2 jigsaw puzzle test images: 2176\n",
      "total 2x2 jigsaw puzzle validation images: 385\n"
     ]
    }
   ],
   "source": [
    "print('total 2x2 jigsaw puzzle train images:', len(os.listdir(puzzle2x2_train_images)))\n",
    "print('total 2x2 jigsaw puzzle test images:', len(os.listdir(puzzle2x2_test_images)))\n",
    "print('total 2x2 jigsaw puzzle validation images:', len(os.listdir(puzzle2x2_valid_images)))"
   ]
  },
  {
   "cell_type": "code",
   "execution_count": 19,
   "metadata": {},
   "outputs": [],
   "source": [
    "from tensorflow.keras.preprocessing.image import ImageDataGenerator"
   ]
  },
  {
   "cell_type": "code",
   "execution_count": 29,
   "metadata": {},
   "outputs": [],
   "source": [
    "#RESCALE ALL IMAGES BY 1/255\n",
    "train_datagen = ImageDataGenerator(rescale=1./255)\n",
    "test_datagen = ImageDataGenerator(rescale=1./255)"
   ]
  },
  {
   "cell_type": "code",
   "execution_count": 27,
   "metadata": {},
   "outputs": [
    {
     "name": "stdout",
     "output_type": "stream",
     "text": [
      "<tensorflow.python.keras.preprocessing.image.ImageDataGenerator object at 0x7fde605b4d30>\n"
     ]
    }
   ],
   "source": [
    "print(train_datagen)"
   ]
  },
  {
   "cell_type": "code",
   "execution_count": 36,
   "metadata": {},
   "outputs": [
    {
     "name": "stdout",
     "output_type": "stream",
     "text": [
      "Found 0 images belonging to 0 classes.\n"
     ]
    }
   ],
   "source": [
    "train_generator = train_datagen.flow_from_directory(\n",
    "    puzzle2x2_train_images,\n",
    "    target_size=(200,200),\n",
    "    batch_size=20,\n",
    "    class_mode='binary')"
   ]
  },
  {
   "cell_type": "code",
   "execution_count": null,
   "metadata": {},
   "outputs": [],
   "source": [
    "validation_generator = test_datagen.flow_from_directory(\n",
    "    puzzle2x2_valid_images,\n",
    "    target_size=(200,200),\n",
    "    batch_size=20,\n",
    "    class_mode='binary')\n",
    "\n",
    "for data_batch, labels_batch in train_generator:\n",
    "    print('data batch shape:', data_batch.shape)\n",
    "    print('labels batch shape:', labels_batch.shape)\n",
    "    break"
   ]
  }
 ],
 "metadata": {
  "kernelspec": {
   "display_name": "Python 3",
   "language": "python",
   "name": "python3"
  },
  "language_info": {
   "codemirror_mode": {
    "name": "ipython",
    "version": 3
   },
   "file_extension": ".py",
   "mimetype": "text/x-python",
   "name": "python",
   "nbconvert_exporter": "python",
   "pygments_lexer": "ipython3",
   "version": "3.8.5"
  }
 },
 "nbformat": 4,
 "nbformat_minor": 4
}
