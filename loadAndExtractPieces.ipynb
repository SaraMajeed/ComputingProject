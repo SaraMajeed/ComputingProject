{
 "cells": [
  {
   "cell_type": "code",
   "execution_count": null,
   "metadata": {},
   "outputs": [],
   "source": [
    "import os, shutil\n",
    "import tensorflow as tf\n",
    "from tensorflow.keras.preprocessing import image\n",
    "import numpy as np\n",
    "\n",
    "%matplotlib inline\n",
    "import matplotlib.pyplot as plt\n",
    "import pandas as pd"
   ]
  },
  {
   "cell_type": "code",
   "execution_count": null,
   "metadata": {},
   "outputs": [],
   "source": [
    "# MAIN DIRECTORIES\n",
    "\n",
    "base_dir = '/Users/saramajeed/Documents/UNI/Year 3/Project/data/puzzle_3x3/'\n",
    "\n",
    "train_dir = os.path.join(base_dir, 'train')\n",
    "valid_dir = os.path.join(base_dir, 'valid')\n",
    "test_dir = os.path.join(base_dir, 'test')"
   ]
  },
  {
   "cell_type": "code",
   "execution_count": null,
   "metadata": {},
   "outputs": [],
   "source": [
    "#https://github.com/shivaverma/Jigsaw-Solver/blob/master/utills.py\n",
    "\n",
    "def extract_piece(a):\n",
    "\n",
    "    \"\"\"\n",
    "       extracts each piece of the puzzle and returns\n",
    "    \"\"\"\n",
    "\n",
    "    #size//cuts\n",
    "    cut_len = 200 // 3 \n",
    "\n",
    "    a = np.array([a[:, 0:cut_len, :], a[:, cut_len:cut_len * 2, :], a[:, cut_len * 2:cut_len * 3, :]])\n",
    "    a = np.concatenate(\n",
    "        (a[:, 0:cut_len, :, :], a[:, cut_len:cut_len * 2, :, :], a[:, cut_len * 2:cut_len * 3, :, :]))\n",
    "\n",
    "    return a"
   ]
  },
  {
   "cell_type": "code",
   "execution_count": null,
   "metadata": {},
   "outputs": [],
   "source": [
    "#https://www.tensorflow.org/tutorials/load_data/images\n",
    "\n",
    "from PIL import Image\n",
    "from tensorflow.keras.preprocessing.image import ImageDataGenerator\n",
    "\n",
    "def load_data(path, l_path):\n",
    "    \n",
    "    tiles = []\n",
    "    label_data = []\n",
    "     \n",
    "    labels = pd.read_csv(base_dir + '{}.csv'.format(l_path))\n",
    "    \n",
    "    for i in range(len(labels)):\n",
    "        \n",
    "        im = Image.open(path + '/' 'puzzles' + '/' + labels.iloc[i]['image'])\n",
    "        im = np.array(im).astype('float16')\n",
    "        tiles.append(extract_piece(im)) #calls extract_piece function for each image\n",
    "    \n",
    "        label = labels.iloc[i]['label'] # locates labels \n",
    "        label = [int(i) for i in label.split()]\n",
    "        label_data.append(label) \n",
    "            \n",
    "    return (np.array(tiles), np.expand_dims(np.array(label_data), axis=-1))"
   ]
  },
  {
   "cell_type": "code",
   "execution_count": null,
   "metadata": {},
   "outputs": [],
   "source": [
    "#loads the data and labels for all parts of the dataset (training, validation and test)\n",
    "train_data, train_labels = load_data(train_dir, 'train')\n",
    "test_data, test_labels = load_data(test_dir, 'test')\n",
    "valid_data, valid_labels = load_data(valid_dir, 'valid')"
   ]
  },
  {
   "cell_type": "code",
   "execution_count": null,
   "metadata": {},
   "outputs": [],
   "source": [
    "#https://github.com/keras-team/keras/issues/8195\n",
    "\n",
    "#reduces the dimensions of the image to allow pandas to output result as an image\n",
    "def reduce_dimensions( x4d ) :\n",
    "    shape = tf.shape( x4d ) # get dynamic tensor shape\n",
    "    x3d = tf.reshape( x4d, [shape[0]* shape[1], shape[2], shape[3] ] )\n",
    "    return x3d"
   ]
  },
  {
   "cell_type": "code",
   "execution_count": null,
   "metadata": {},
   "outputs": [],
   "source": [
    "#used to view individual puzzles after load data function has extracted each piece\n",
    "#used just for testing\n",
    "plt.figure(figsize=(20,10))\n",
    "new_data = reduce_dimensions(train_data[655])\n",
    "\n",
    "plt.imshow(np.array(new_data).astype('uint16'))"
   ]
  }
 ],
 "metadata": {
  "kernelspec": {
   "display_name": "Python 3",
   "language": "python",
   "name": "python3"
  },
  "language_info": {
   "codemirror_mode": {
    "name": "ipython",
    "version": 3
   },
   "file_extension": ".py",
   "mimetype": "text/x-python",
   "name": "python",
   "nbconvert_exporter": "python",
   "pygments_lexer": "ipython3",
   "version": "3.8.2"
  }
 },
 "nbformat": 4,
 "nbformat_minor": 4
}
